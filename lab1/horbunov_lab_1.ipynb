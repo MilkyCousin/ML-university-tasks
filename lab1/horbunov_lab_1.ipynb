{
 "cells": [
  {
   "cell_type": "markdown",
   "metadata": {},
   "source": [
    "Для проведення регресiйного аналiзу потрбiно зробити наступне:\n",
    "1. Побудувати ОНК, зробити висновки, щодо якостi моделi та ОНК.\n",
    "2. Спробувати покращити оцiнку, шляхом використання гребеневої регресiї.\n",
    "3. Спробувати зменшити розмiрнiсть простору регресорiв використовуючи метод головних компонент.\n",
    "4. Здiйснити процедуру оптимального вiдбору регресорiв.\n",
    "5. Напишiть функцiю, що примає число N, а також величини $β_i, i = 0 : 3$ як параметри. Функцiя повинна згенерувати три регресора $X_i, i = 1 : 3$ зi стандартним нормальним розподiлом, а також похибку з розподiлом $\\mathcal{N}(0, 0.1)$ розмiрностi N. Функцiя повинна повернути дата фрейм з колонкою $Y = \\beta_0 + \\beta_1X_1 + \\beta_2X_2 + \\beta_3X_3 + \\varepsilon$, а також колонками $X_1; X_2; X_3$. Пiсля цього обчислiть ОНК використовуючи безпосереднью формулу, бiблiотечну функцiю або за допомогою власної iмплементацiї методу градiєнтного спуску (теж оформленого в окрему функцiю). Для рiзних значень параметра N занотуйте час який потрiбен для обчислення ОНК кожним iз трьох методiв. Знайдiть таке N при якому один iз методiв буде працювати вiдчутно повiльнiше. Для чистоти експерименту проведiть його 10 разiв для кожного N.\n",
    "\n",
    "Файл з даними: NAICExpense.csv\n",
    "\n",
    "Вiдгук: EXPENSES\n",
    "\n",
    "Регресори: GPWPERSONAL, GPWCOMM, ASSETS, CASH, LIQUIDRATIO"
   ]
  },
  {
   "cell_type": "code",
   "execution_count": 1,
   "metadata": {},
   "outputs": [],
   "source": [
    "import matplotlib.pyplot as plt\n",
    "import numpy as np\n",
    "import pandas as pd\n",
    "\n",
    "from sklearn.model_selection import train_test_split"
   ]
  },
  {
   "cell_type": "code",
   "execution_count": 2,
   "metadata": {},
   "outputs": [],
   "source": [
    "df = pd.read_csv('NAICExpense.csv', usecols=['GPWPERSONAL', 'GPWCOMM', 'ASSETS', 'CASH', 'LIQUIDRATIO', 'EXPENSES'])\n",
    "df_train, df_test = train_test_split(df, train_size=0.8)"
   ]
  },
  {
   "cell_type": "code",
   "execution_count": null,
   "metadata": {},
   "outputs": [],
   "source": []
  }
 ],
 "metadata": {
  "kernelspec": {
   "display_name": "Python 3",
   "language": "python",
   "name": "python3"
  },
  "language_info": {
   "codemirror_mode": {
    "name": "ipython",
    "version": 3
   },
   "file_extension": ".py",
   "mimetype": "text/x-python",
   "name": "python",
   "nbconvert_exporter": "python",
   "pygments_lexer": "ipython3",
   "version": "3.7.4"
  }
 },
 "nbformat": 4,
 "nbformat_minor": 4
}
